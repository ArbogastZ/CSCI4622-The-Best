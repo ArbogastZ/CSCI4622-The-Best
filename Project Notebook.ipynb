{
 "cells": [
  {
   "cell_type": "markdown",
   "metadata": {},
   "source": [
    "<div style=\"text-align: right\"> Kyle Mock </div>\n",
    "    \n",
    "<div style=\"text-align: right\"> Victoria Orta </div>\n",
    "\n",
    "<div style=\"text-align: right\"> Zachary Arbogast </div>"
   ]
  },
  {
   "cell_type": "markdown",
   "metadata": {},
   "source": [
    "# Facial Recognition: The-Best\n",
    "\n",
    "Our project is focused on creating a model capable of recognizing faces. We start with identifying a face in static, clean, images, and move on to isolation and identification of multiple faces in both scenes and videos. The end result is a model capable of attributing names or IDs to all faces in a given picture."
   ]
  },
  {
   "cell_type": "markdown",
   "metadata": {},
   "source": [
    "## EDA (Exploratory Data Analysis Procedure)\n",
    "\n",
    "Our data comes from [CelebA Dataset](http://mmlab.ie.cuhk.edu.hk/projects/CelebA.html) which has the following properties\n",
    "\n",
    "* Number of People: 10,177\n",
    "* Images: 202,599\n",
    "* Image Categories: 40\n",
    "\n",
    "We will also be using the BLANK dataset for isolating and identifying multiple faces in one image.\n",
    "\n",
    "First we need to determine if our the [CelebA Dataset](http://mmlab.ie.cuhk.edu.hk/projects/CelebA.html) has any outlier's. We do this by BLANK. After this we will perform PCA in order to achieve explained variation of 95%. This will allow our later application of a neural network to be trained in a reasonable amount of time.\n",
    "\n",
    "For the BLANK dataset we will also determine if it has any outlier's using the same method as before. Next we will determine which API's to use for isolating faces in an image before putting these sub images into the same PCA mentioned prior."
   ]
  },
  {
   "cell_type": "code",
   "execution_count": null,
   "metadata": {},
   "outputs": [],
   "source": [
    "# get dependencies for loading images\n"
   ]
  },
  {
   "cell_type": "markdown",
   "metadata": {},
   "source": [
    "### Bibliography\n",
    "\n",
    "@inproceedings{liu2015faceattributes,\n",
    " title = {Deep Learning Face Attributes in the Wild},\n",
    " author = {Liu, Ziwei and Luo, Ping and Wang, Xiaogang and Tang, Xiaoou},\n",
    " booktitle = {Proceedings of International Conference on Computer Vision (ICCV)},\n",
    " month = {December},\n",
    " year = {2015} \n",
    "}"
   ]
  }
 ],
 "metadata": {
  "kernelspec": {
   "display_name": "Python 3",
   "language": "python",
   "name": "python3"
  },
  "language_info": {
   "codemirror_mode": {
    "name": "ipython",
    "version": 3
   },
   "file_extension": ".py",
   "mimetype": "text/x-python",
   "name": "python",
   "nbconvert_exporter": "python",
   "pygments_lexer": "ipython3",
   "version": "3.7.4"
  }
 },
 "nbformat": 4,
 "nbformat_minor": 2
}
